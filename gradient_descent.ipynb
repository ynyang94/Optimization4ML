{
 "cells": [
  {
   "cell_type": "markdown",
   "id": "9f4f1972",
   "metadata": {},
   "source": [
    "## ECE6960 Homework2 Yufeng Yang"
   ]
  },
  {
   "cell_type": "markdown",
   "id": "a13ab0a9",
   "metadata": {},
   "source": [
    "### Package Preparation\n",
    "Import numpy for matrix computing.\n",
    "Import matplotlib for plotting"
   ]
  },
  {
   "cell_type": "code",
   "execution_count": 70,
   "id": "fe6c05e4",
   "metadata": {},
   "outputs": [],
   "source": [
    "import numpy as np\n",
    "from matplotlib import pyplot as plt"
   ]
  },
  {
   "cell_type": "markdown",
   "id": "5af9b4f9",
   "metadata": {},
   "source": [
    "### Data Generation\n",
    "Specify m and n, sigma(variance for noise) for the data."
   ]
  },
  {
   "cell_type": "code",
   "execution_count": 71,
   "id": "74a07122",
   "metadata": {},
   "outputs": [],
   "source": [
    "# Specify m, n\n",
    "m = 500\n",
    "n = 50\n",
    "# Specify the mean and variance of noise \\delta, which follows normal distribution.\n",
    "mu = 0\n",
    "# This can be changed.\n",
    "sigma = 0.8\n",
    "np.random.seed(1234)"
   ]
  },
  {
   "cell_type": "code",
   "execution_count": 72,
   "id": "512c273c",
   "metadata": {},
   "outputs": [],
   "source": [
    "# define a function to generate experimental data.\n",
    "# Input args: m,n are matrix shape; mu and sigma are for noise data.\n",
    "def data_generator(m,n,mu, sigma):\n",
    "    # A is a matrix with size R^{m*n}\n",
    "    \n",
    "    A = np.empty([m,n])\n",
    "    # ground truth \n",
    "    z = 10*np.random.rand(n,1)\n",
    "    # create noise vector with the length equals to m\n",
    "    for i in range(m):\n",
    "        for j in range(n):\n",
    "            A[i,j] = np.random.normal(mu, 1)\n",
    "        norm_A_i = np.linalg.norm(A[i,:],2)\n",
    "        # scale each row of A such that the norm of each row is equal to 1.\n",
    "        A[i,:] = A[i,:]/norm_A_i\n",
    "    delta = np.random.normal(mu, sigma, size=(m,1))\n",
    "    return A, z, delta\n",
    "    "
   ]
  },
  {
   "cell_type": "code",
   "execution_count": 73,
   "id": "c6ffc318",
   "metadata": {},
   "outputs": [
    {
     "name": "stdout",
     "output_type": "stream",
     "text": [
      "(500, 50)\n",
      "(50, 1)\n",
      "(500, 1)\n",
      "(500, 1)\n",
      "1.0\n"
     ]
    }
   ],
   "source": [
    "A, z, delta = data_generator(m,n,mu,sigma)\n",
    "# generate observations\n",
    "b = np.matmul(A,z)+delta\n",
    "# check about A,z,b's shape\n",
    "print(A.shape)\n",
    "print(z.shape)\n",
    "print(delta.shape)\n",
    "print(b.shape)\n",
    "print(np.linalg.norm(A[1,:],2))"
   ]
  },
  {
   "cell_type": "code",
   "execution_count": 74,
   "id": "f70f5081",
   "metadata": {},
   "outputs": [],
   "source": [
    "#print(A)\n",
    "#print(\"---***---\")\n",
    "#print(z)\n",
    "#print(\"---***---\")\n",
    "#print(delta)"
   ]
  },
  {
   "cell_type": "code",
   "execution_count": 75,
   "id": "613169e2",
   "metadata": {},
   "outputs": [],
   "source": [
    "# define a function compute least square loss function value.\n",
    "def least_square(A,x,b):\n",
    "    residual = np.matmul(A,x)-b\n",
    "    loss = 0.5*np.linalg.norm(residual,2)**2\n",
    "    return loss"
   ]
  },
  {
   "cell_type": "code",
   "execution_count": 76,
   "id": "d5b6e986",
   "metadata": {},
   "outputs": [],
   "source": [
    "# define a function compute gradient\n",
    "def least_square_grad(A,x,b):\n",
    "    residual = np.matmul(A,x)-b\n",
    "    # gradient is A^T(Ax-b)\n",
    "    grad = np.matmul(np.transpose(A),residual)\n",
    "    return grad"
   ]
  },
  {
   "cell_type": "code",
   "execution_count": 77,
   "id": "56d4e639",
   "metadata": {},
   "outputs": [],
   "source": [
    "# generate initial guess\n",
    "x0 = z+5*np.random.normal(1,1,size = (z.shape[0],z.shape[1]))"
   ]
  },
  {
   "cell_type": "code",
   "execution_count": 78,
   "id": "075c22ef",
   "metadata": {},
   "outputs": [
    {
     "name": "stdout",
     "output_type": "stream",
     "text": [
      "[[-1.83199015]\n",
      " [12.31107652]\n",
      " [ 9.38727108]\n",
      " [14.80615973]\n",
      " [15.73165837]\n",
      " [ 5.7759575 ]\n",
      " [-2.12012345]\n",
      " [16.60972677]\n",
      " [19.2831095 ]\n",
      " [17.68120053]\n",
      " [ 1.69597812]\n",
      " [ 8.35374792]\n",
      " [ 8.30220288]\n",
      " [19.42893025]\n",
      " [ 8.47250201]\n",
      " [17.88888907]\n",
      " [ 3.40437308]\n",
      " [ 3.85503629]\n",
      " [17.79712773]\n",
      " [14.90010191]\n",
      " [14.46398133]\n",
      " [15.71520615]\n",
      " [11.98141918]\n",
      " [16.57216393]\n",
      " [21.50076316]\n",
      " [10.4507935 ]\n",
      " [13.94751482]\n",
      " [ 8.16827851]\n",
      " [ 2.29515193]\n",
      " [ 9.26120032]\n",
      " [ 5.08596502]\n",
      " [ 8.05424058]\n",
      " [13.38487195]\n",
      " [ 9.17213981]\n",
      " [19.9165741 ]\n",
      " [13.3769188 ]\n",
      " [13.00540409]\n",
      " [ 7.64899932]\n",
      " [12.69516724]\n",
      " [17.20771868]\n",
      " [-0.71844652]\n",
      " [-0.86499653]\n",
      " [ 9.23951829]\n",
      " [ 2.24459299]\n",
      " [16.95257829]\n",
      " [ 6.92885652]\n",
      " [-0.77029597]\n",
      " [12.2173633 ]\n",
      " [ 4.24657174]\n",
      " [14.26345398]]\n",
      "[[1.9151945 ]\n",
      " [6.22108771]\n",
      " [4.37727739]\n",
      " [7.85358584]\n",
      " [7.79975808]\n",
      " [2.72592605]\n",
      " [2.76464255]\n",
      " [8.01872178]\n",
      " [9.58139354]\n",
      " [8.75932635]\n",
      " [3.5781727 ]\n",
      " [5.00995126]\n",
      " [6.83462935]\n",
      " [7.12702027]\n",
      " [3.70250755]\n",
      " [5.61196186]\n",
      " [5.03083165]\n",
      " [0.1376845 ]\n",
      " [7.72826622]\n",
      " [8.82641191]\n",
      " [3.64885984]\n",
      " [6.15396178]\n",
      " [0.75381242]\n",
      " [3.68824006]\n",
      " [9.33140102]\n",
      " [6.51378143]\n",
      " [3.97202578]\n",
      " [7.88730143]\n",
      " [3.16836122]\n",
      " [5.68098653]\n",
      " [8.6912739 ]\n",
      " [4.36173424]\n",
      " [8.02147642]\n",
      " [1.43766825]\n",
      " [7.04260971]\n",
      " [7.04581308]\n",
      " [2.18792106]\n",
      " [9.24867629]\n",
      " [4.42140755]\n",
      " [9.09315959]\n",
      " [0.59809223]\n",
      " [1.84287084]\n",
      " [0.47355279]\n",
      " [6.74880944]\n",
      " [5.9462478 ]\n",
      " [5.33310163]\n",
      " [0.43324063]\n",
      " [5.6143308 ]\n",
      " [3.29668446]\n",
      " [5.02966833]]\n"
     ]
    }
   ],
   "source": [
    "print(x0)\n",
    "print(z)"
   ]
  },
  {
   "cell_type": "code",
   "execution_count": 79,
   "id": "d12f9a6a",
   "metadata": {},
   "outputs": [],
   "source": [
    "# specify learning rate\n",
    "lr = 0.1"
   ]
  },
  {
   "cell_type": "code",
   "execution_count": 80,
   "id": "5f2f8192",
   "metadata": {},
   "outputs": [
    {
     "name": "stdout",
     "output_type": "stream",
     "text": [
      "12068.560241773142\n",
      "(50, 1)\n"
     ]
    }
   ],
   "source": [
    "print(least_square(A,x0,b))\n",
    "print(least_square_grad(A,x0,b).shape)"
   ]
  },
  {
   "cell_type": "code",
   "execution_count": 81,
   "id": "8e9ebd21",
   "metadata": {},
   "outputs": [],
   "source": [
    "# define a stopping creteria\n",
    "stop_criteria = 1e-8\n",
    "norm_grad = np.linalg.norm(least_square_grad(A,x0,b),2)\n",
    "err_ratio = np.linalg.norm(x0-z,2)/np.linalg.norm(z,2)\n",
    "obj_val = np.empty(0)\n",
    "estimation_err = np.empty(0)\n",
    "#loss=east_square(A,x0,b)\n",
    "#raining_loss = np.append(training_loss, loss)\n",
    "loop = 0\n",
    "#print(obj_val)\n",
    "#print(estimation_err)\n",
    "while norm_grad > stop_criteria:\n",
    "    \n",
    "    grad = least_square_grad(A,x0,b)\n",
    "    # gradient update\n",
    "    x0 = x0 - lr*grad\n",
    "    norm_grad = np.linalg.norm(grad,2)\n",
    "    loss_val = least_square(A,x0,b)\n",
    "    # record training loss and estimation error.\n",
    "    #print(obj_val)\n",
    "    obj_val = np.append(obj_val, loss_val)\n",
    "    \n",
    "    err_ratio = np.linalg.norm(x0-z,2)/np.linalg.norm(z,2)\n",
    "    estimation_err = np.append(estimation_err, err_ratio)\n",
    "    "
   ]
  },
  {
   "cell_type": "code",
   "execution_count": 82,
   "id": "7eae098f",
   "metadata": {},
   "outputs": [
    {
     "data": {
      "image/png": "[encoded data removed]",
      "text/plain": [
       "<Figure size 640x480 with 1 Axes>"
      ]
     },
     "metadata": {},
     "output_type": "display_data"
    }
   ],
   "source": [
    "# make a plot.\n",
    "plt.plot(obj_val)\n",
    "plt.xlabel('Iteration Number')\n",
    "plt.ylabel('loss function')\n",
    "plt.title('loss function plot')\n",
    "plt.savefig(\"Visualization of loss function\", dpi = 150)"
   ]
  },
  {
   "cell_type": "code",
   "execution_count": 83,
   "id": "73e9067d",
   "metadata": {},
   "outputs": [
    {
     "data": {
      "image/png": "[encoded data removed]",
      "text/plain": [
       "<Figure size 640x480 with 1 Axes>"
      ]
     },
     "metadata": {},
     "output_type": "display_data"
    }
   ],
   "source": [
    "# make a plot\n",
    "plt.plot(estimation_err)\n",
    "plt.xlabel('iteration numbers')\n",
    "plt.ylabel('estimation error')\n",
    "plt.title('Estimation error plot')\n",
    "plt.savefig('Visualization of estimation error', dpi = 150)"
   ]
  },
  {
   "cell_type": "code",
   "execution_count": 84,
   "id": "fdca2de8",
   "metadata": {},
   "outputs": [
    {
     "name": "stdout",
     "output_type": "stream",
     "text": [
      "[0.35560305 0.14735522 0.08134191 0.05784741 0.05121708 0.04884181\n",
      " 0.04852684 0.04815635 0.04826833 0.04813881 0.0482223  0.04816008\n",
      " 0.04820469 0.04817373 0.04819594 0.04818076 0.04819151 0.04818419\n",
      " 0.04818932 0.04818583 0.04818825 0.0481866  0.04818774 0.04818697\n",
      " 0.0481875  0.04818714 0.04818738 0.04818722 0.04818733 0.04818725\n",
      " 0.04818731 0.04818727 0.04818729 0.04818728 0.04818729 0.04818728\n",
      " 0.04818729 0.04818728 0.04818729 0.04818728 0.04818728 0.04818728\n",
      " 0.04818728 0.04818728 0.04818728 0.04818728 0.04818728 0.04818728\n",
      " 0.04818728 0.04818728 0.04818728 0.04818728 0.04818728 0.04818728\n",
      " 0.04818728 0.04818728]\n"
     ]
    }
   ],
   "source": [
    "print(estimation_err)"
   ]
  }
 ],
 "metadata": {
  "kernelspec": {
   "display_name": "Python 3 (ipykernel)",
   "language": "python",
   "name": "python3"
  },
  "language_info": {
   "codemirror_mode": {
    "name": "ipython",
    "version": 3
   },
   "file_extension": ".py",
   "mimetype": "text/x-python",
   "name": "python",
   "nbconvert_exporter": "python",
   "pygments_lexer": "ipython3",
   "version": "3.8.18"
  }
 },
 "nbformat": 4,
 "nbformat_minor": 5
}
