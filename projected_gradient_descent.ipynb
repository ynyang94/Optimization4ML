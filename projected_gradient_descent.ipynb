{
 "cells": [
  {
   "cell_type": "markdown",
   "id": "701efa6f",
   "metadata": {},
   "source": [
    "# HW4 Report Yufeng Yang"
   ]
  },
  {
   "cell_type": "markdown",
   "id": "228ba60c",
   "metadata": {},
   "source": [
    "## Part I"
   ]
  },
  {
   "cell_type": "code",
   "execution_count": 35,
   "id": "cc8a44a6",
   "metadata": {},
   "outputs": [],
   "source": [
    "import numpy as np\n",
    "from matplotlib import pyplot as plt"
   ]
  },
  {
   "cell_type": "code",
   "execution_count": 36,
   "id": "f6f14efe",
   "metadata": {},
   "outputs": [],
   "source": [
    "#generate matrix following the rule\n",
    "def matrix_generator(n, epsilon):\n",
    "    A = np.random.normal(0,1,n)\n",
    "    return np.matmul(np.transpose(A), np.transpose(A))+ epsilon*np.identity(n)"
   ]
  },
  {
   "cell_type": "code",
   "execution_count": 37,
   "id": "1403a37f",
   "metadata": {},
   "outputs": [],
   "source": [
    "# set up FW update for quadratic function.\n",
    "def Frank_Wolfe_Quadratic(x, Q, eta):\n",
    "    eq = np.matmul(Q,x)\n",
    "    return (1-eta)*x+eta*(eq/np.linalg.norm(eq))"
   ]
  },
  {
   "cell_type": "code",
   "execution_count": 38,
   "id": "423480e9",
   "metadata": {},
   "outputs": [],
   "source": [
    "# Test starts here.\n",
    "np.random.seed(123)\n",
    "n = 50\n",
    "epsilon = 0.6\n",
    "Q = matrix_generator(n, epsilon)\n",
    "lr = 0.1\n",
    "eta = lr\n",
    "x0 = 0.3*np.random.normal(0,0.5,n)\n",
    "max_iter = 1000\n",
    "eig_val, eig_vec = np.linalg.eigh(Q)\n",
    "lambda1 = eig_val.max()\n",
    "count = 0\n",
    "while count < max_iter:\n",
    "    x0 = Frank_Wolfe_Quadratic(x0, Q, eta)\n",
    "    count += 1\n",
    "    \n",
    "\n"
   ]
  },
  {
   "cell_type": "code",
   "execution_count": 39,
   "id": "66071794",
   "metadata": {},
   "outputs": [
    {
     "name": "stdout",
     "output_type": "stream",
     "text": [
      "3.629531304419418e-12\n"
     ]
    }
   ],
   "source": [
    "# print the 2-norm difference between Qx and \\lambda_{max}x\n",
    "print(np.linalg.norm(np.matmul(Q, x0)-lambda1* x0))\n"
   ]
  },
  {
   "cell_type": "markdown",
   "id": "ce32539d",
   "metadata": {},
   "source": [
    "## Part II"
   ]
  },
  {
   "cell_type": "code",
   "execution_count": 40,
   "id": "8e26e104",
   "metadata": {},
   "outputs": [],
   "source": [
    "import numpy as np\n",
    "from matplotlib import pyplot as plt"
   ]
  },
  {
   "cell_type": "code",
   "execution_count": 41,
   "id": "58e31ffb",
   "metadata": {},
   "outputs": [],
   "source": [
    "# define a function to generate experimental data.\n",
    "# Input args: m,n are matrix shape; mu and sigma are for noise data.\n",
    "def data_generator(m,n,mu, sigma):\n",
    "    # A is a matrix with size R^{m*n}\n",
    "    \n",
    "    A = np.empty([m,n])\n",
    "    # ground truth \n",
    "    z = np.random.rand(n,1)\n",
    "    # create noise vector with the length equals to m\n",
    "    for i in range(m):\n",
    "        for j in range(n):\n",
    "            A[i,j] = np.random.normal(mu, 1)\n",
    "        norm_A_i = np.linalg.norm(A[i,:],2)\n",
    "        # scale each row of A such that the norm of each row is equal to 1.\n",
    "        A[i,:] = A[i,:]/norm_A_i\n",
    "    delta = np.random.normal(mu, sigma, size=(m,1))\n",
    "    return A, z, delta"
   ]
  },
  {
   "cell_type": "code",
   "execution_count": 42,
   "id": "1848b995",
   "metadata": {},
   "outputs": [],
   "source": [
    "# Compute L_{\\infty} norm projection\n",
    "def projection_L_infinity(x):\n",
    "    n_row = np.shape(x)[0]\n",
    "    proj_x = np.zeros((n_row,1))\n",
    "    for indx in range(n_row):\n",
    "        if np.absolute(x[indx]) <=  1:\n",
    "            proj_x[indx] = x[indx]\n",
    "        elif x[indx] <= -1:\n",
    "            proj_x[indx] = -1\n",
    "        else:\n",
    "            proj_x[indx] = 1\n",
    "    return proj_x\n",
    "    "
   ]
  },
  {
   "cell_type": "code",
   "execution_count": 43,
   "id": "6ffe6fef",
   "metadata": {},
   "outputs": [],
   "source": [
    "# compute training loss.\n",
    "def least_square(A,x,b):\n",
    "    residual = np.matmul(A,x)-b\n",
    "    loss = 0.5*np.linalg.norm(residual,2)**2\n",
    "    return loss"
   ]
  },
  {
   "cell_type": "code",
   "execution_count": 44,
   "id": "8775a209",
   "metadata": {},
   "outputs": [],
   "source": [
    "# define a function compute gradient\n",
    "def least_square_grad(A,x,b):\n",
    "    residual = np.matmul(A,x)-b\n",
    "    # gradient is A^T(Ax-b)\n",
    "    grad = np.matmul(np.transpose(A),residual)\n",
    "    return grad"
   ]
  },
  {
   "cell_type": "code",
   "execution_count": 45,
   "id": "a109b761",
   "metadata": {},
   "outputs": [],
   "source": [
    "# Specify m, n\n",
    "m = 500\n",
    "n = 50\n",
    "# Specify the mean and variance of noise \\delta, which follows normal distribution.\n",
    "mu = 0\n",
    "# This can be changed.\n",
    "sigma = 0.8\n",
    "np.random.seed(123)\n",
    "#####\n",
    "A, z, delta = data_generator(m,n,mu,sigma)\n",
    "# generate observations\n",
    "b = np.matmul(A,z)+delta\n",
    "\n",
    "# generate initial guess\n",
    "x0 = z+np.random.normal(1,1,size = (z.shape[0],z.shape[1]))\n",
    "#print(x0)\n",
    "# specify learning rate\n",
    "lr = 0.1\n",
    "max_iter = 1000\n",
    "count = 0\n",
    "training_loss = np.empty(0)\n",
    "###\n",
    "err = least_square(A,x0,b)\n",
    "training_loss = np.append(training_loss,err)\n",
    "while count < max_iter:\n",
    "    grad = least_square_grad(A,x0,b)\n",
    "    x0 = x0 - lr*grad\n",
    "    x0 = projection_L_infinity(x0)\n",
    "    #print(x0)\n",
    "    err = least_square(A,x0,b)\n",
    "    training_loss = np.append(training_loss,err)\n",
    "    count += 1\n",
    "\n",
    "    "
   ]
  },
  {
   "cell_type": "code",
   "execution_count": 46,
   "id": "ce05a29d",
   "metadata": {},
   "outputs": [
    {
     "data": {
      "image/png": "[encoded data removed]",
      "text/plain": [
       "<Figure size 640x480 with 1 Axes>"
      ]
     },
     "metadata": {},
     "output_type": "display_data"
    }
   ],
   "source": [
    "plt.plot(training_loss)\n",
    "plt.xlabel('Iteration Number')\n",
    "plt.ylabel('loss function')\n",
    "plt.title('loss function plot')\n",
    "plt.savefig(\"Visualization of loss function\", dpi = 150)"
   ]
  },
  {
   "cell_type": "code",
   "execution_count": 47,
   "id": "11d1d192",
   "metadata": {},
   "outputs": [
    {
     "data": {
      "image/png": "[encoded data removed]",
      "text/plain": [
       "<Figure size 640x480 with 1 Axes>"
      ]
     },
     "metadata": {},
     "output_type": "display_data"
    }
   ],
   "source": [
    "plt.loglog(training_loss)\n",
    "plt.xlabel('Iteration Number')\n",
    "plt.ylabel('loss function')\n",
    "plt.title('loglog plot for loss function plot')\n",
    "plt.savefig(\"Visualization of loss function\", dpi = 150)"
   ]
  },
  {
   "cell_type": "code",
   "execution_count": null,
   "id": "0c2163cc",
   "metadata": {},
   "outputs": [],
   "source": []
  }
 ],
 "metadata": {
  "kernelspec": {
   "display_name": "Python 3 (ipykernel)",
   "language": "python",
   "name": "python3"
  },
  "language_info": {
   "codemirror_mode": {
    "name": "ipython",
    "version": 3
   },
   "file_extension": ".py",
   "mimetype": "text/x-python",
   "name": "python",
   "nbconvert_exporter": "python",
   "pygments_lexer": "ipython3",
   "version": "3.8.18"
  }
 },
 "nbformat": 4,
 "nbformat_minor": 5
}
